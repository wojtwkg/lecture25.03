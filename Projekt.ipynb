{
  "nbformat": 4,
  "nbformat_minor": 0,
  "metadata": {
    "colab": {
      "provenance": [],
      "include_colab_link": true
    },
    "kernelspec": {
      "name": "python3",
      "display_name": "Python 3"
    },
    "language_info": {
      "name": "python"
    }
  },
  "cells": [
    {
      "cell_type": "markdown",
      "metadata": {
        "id": "view-in-github",
        "colab_type": "text"
      },
      "source": [
        "<a href=\"https://colab.research.google.com/github/wojtwkg/lecture25.03/blob/main/Projekt.ipynb\" target=\"_parent\"><img src=\"https://colab.research.google.com/assets/colab-badge.svg\" alt=\"Open In Colab\"/></a>"
      ]
    },
    {
      "cell_type": "code",
      "source": [
        "import pandas as pd\n",
        "import numpy as np\n",
        "import matplotlib.pyplot as plt\n",
        "import seaborn as sns\n",
        "\n",
        "from sklearn.model_selection import cross_val_score, KFold, GridSearchCV, cross_val_predict\n",
        "from sklearn.linear_model import LinearRegression\n",
        "from sklearn.preprocessing import MinMaxScaler, LabelEncoder, MultiLabelBinarizer\n",
        "from sklearn.decomposition import PCA\n",
        "from sklearn.metrics import mean_squared_error, mean_absolute_error, r2_score, max_error\n",
        "from sklearn.ensemble import RandomForestRegressor, GradientBoostingRegressor\n",
        "\n",
        "\n",
        "\n",
        "!wget https://raw.githubusercontent.com/UEPPUM2025/dane/22320832861f7f428f415a91f6b4bf46f63e5f17/taxi_trip_pricing%20.csv\n",
        "\n",
        "df = pd.read_csv('taxi_trip_pricing (1).csv')"
      ],
      "metadata": {
        "id": "SIDiAW0EaN-r",
        "colab": {
          "base_uri": "https://localhost:8080/"
        },
        "outputId": "73bd012d-35f6-468b-8437-c14e732322f8"
      },
      "execution_count": null,
      "outputs": [
        {
          "output_type": "stream",
          "name": "stdout",
          "text": [
            "--2025-05-28 09:41:42--  https://raw.githubusercontent.com/UEPPUM2025/dane/22320832861f7f428f415a91f6b4bf46f63e5f17/taxi_trip_pricing%20.csv\n",
            "Resolving raw.githubusercontent.com (raw.githubusercontent.com)... 185.199.108.133, 185.199.109.133, 185.199.110.133, ...\n",
            "Connecting to raw.githubusercontent.com (raw.githubusercontent.com)|185.199.108.133|:443... connected.\n",
            "HTTP request sent, awaiting response... 404 Not Found\n",
            "2025-05-28 09:41:43 ERROR 404: Not Found.\n",
            "\n"
          ]
        }
      ]
    },
    {
      "cell_type": "markdown",
      "source": [
        "# **1 etap projektu**"
      ],
      "metadata": {
        "id": "dfg0PqJfSIqW"
      }
    },
    {
      "cell_type": "code",
      "source": [
        "print(\"First 5 records:\", df.head())"
      ],
      "metadata": {
        "id": "HVFqnLqGaTvT",
        "colab": {
          "base_uri": "https://localhost:8080/"
        },
        "outputId": "21f693ce-f88c-4fd5-e6d3-aa9ef19a4f49"
      },
      "execution_count": null,
      "outputs": [
        {
          "output_type": "stream",
          "name": "stdout",
          "text": [
            "First 5 records:    Trip_Distance_km Time_of_Day Day_of_Week  Passenger_Count  \\\n",
            "0             19.35     Morning     Weekday              3.0   \n",
            "1             47.59   Afternoon     Weekday              1.0   \n",
            "2             36.87     Evening     Weekend              1.0   \n",
            "3             30.33     Evening     Weekday              4.0   \n",
            "4               NaN     Evening     Weekday              3.0   \n",
            "\n",
            "  Traffic_Conditions Weather  Base_Fare  Per_Km_Rate  Per_Minute_Rate  \\\n",
            "0                Low   Clear       3.56         0.80             0.32   \n",
            "1               High   Clear        NaN         0.62             0.43   \n",
            "2               High   Clear       2.70         1.21             0.15   \n",
            "3                Low     NaN       3.48         0.51             0.15   \n",
            "4               High   Clear       2.93         0.63             0.32   \n",
            "\n",
            "   Trip_Duration_Minutes  Trip_Price  \n",
            "0                  53.82     36.2624  \n",
            "1                  40.57         NaN  \n",
            "2                  37.27     52.9032  \n",
            "3                 116.81     36.4698  \n",
            "4                  22.64     15.6180  \n"
          ]
        }
      ]
    },
    {
      "cell_type": "code",
      "source": [
        "df.dtypes"
      ],
      "metadata": {
        "id": "KaprjIOnazbd",
        "colab": {
          "base_uri": "https://localhost:8080/",
          "height": 429
        },
        "outputId": "c5161dd6-5998-4328-ebda-00f47158ea5c"
      },
      "execution_count": null,
      "outputs": [
        {
          "output_type": "execute_result",
          "data": {
            "text/plain": [
              "Trip_Distance_km         float64\n",
              "Time_of_Day               object\n",
              "Day_of_Week               object\n",
              "Passenger_Count          float64\n",
              "Traffic_Conditions        object\n",
              "Weather                   object\n",
              "Base_Fare                float64\n",
              "Per_Km_Rate              float64\n",
              "Per_Minute_Rate          float64\n",
              "Trip_Duration_Minutes    float64\n",
              "Trip_Price               float64\n",
              "dtype: object"
            ],
            "text/html": [
              "<div>\n",
              "<style scoped>\n",
              "    .dataframe tbody tr th:only-of-type {\n",
              "        vertical-align: middle;\n",
              "    }\n",
              "\n",
              "    .dataframe tbody tr th {\n",
              "        vertical-align: top;\n",
              "    }\n",
              "\n",
              "    .dataframe thead th {\n",
              "        text-align: right;\n",
              "    }\n",
              "</style>\n",
              "<table border=\"1\" class=\"dataframe\">\n",
              "  <thead>\n",
              "    <tr style=\"text-align: right;\">\n",
              "      <th></th>\n",
              "      <th>0</th>\n",
              "    </tr>\n",
              "  </thead>\n",
              "  <tbody>\n",
              "    <tr>\n",
              "      <th>Trip_Distance_km</th>\n",
              "      <td>float64</td>\n",
              "    </tr>\n",
              "    <tr>\n",
              "      <th>Time_of_Day</th>\n",
              "      <td>object</td>\n",
              "    </tr>\n",
              "    <tr>\n",
              "      <th>Day_of_Week</th>\n",
              "      <td>object</td>\n",
              "    </tr>\n",
              "    <tr>\n",
              "      <th>Passenger_Count</th>\n",
              "      <td>float64</td>\n",
              "    </tr>\n",
              "    <tr>\n",
              "      <th>Traffic_Conditions</th>\n",
              "      <td>object</td>\n",
              "    </tr>\n",
              "    <tr>\n",
              "      <th>Weather</th>\n",
              "      <td>object</td>\n",
              "    </tr>\n",
              "    <tr>\n",
              "      <th>Base_Fare</th>\n",
              "      <td>float64</td>\n",
              "    </tr>\n",
              "    <tr>\n",
              "      <th>Per_Km_Rate</th>\n",
              "      <td>float64</td>\n",
              "    </tr>\n",
              "    <tr>\n",
              "      <th>Per_Minute_Rate</th>\n",
              "      <td>float64</td>\n",
              "    </tr>\n",
              "    <tr>\n",
              "      <th>Trip_Duration_Minutes</th>\n",
              "      <td>float64</td>\n",
              "    </tr>\n",
              "    <tr>\n",
              "      <th>Trip_Price</th>\n",
              "      <td>float64</td>\n",
              "    </tr>\n",
              "  </tbody>\n",
              "</table>\n",
              "</div><br><label><b>dtype:</b> object</label>"
            ]
          },
          "metadata": {},
          "execution_count": 24
        }
      ]
    },
    {
      "cell_type": "code",
      "source": [
        "nan_counts = df.isnull().sum()\n",
        "\n",
        "print(\"NaN counts per column:\\n\", nan_counts)"
      ],
      "metadata": {
        "id": "JTEON0dBbChg",
        "colab": {
          "base_uri": "https://localhost:8080/"
        },
        "outputId": "dcb433d3-6707-498e-976a-08af4292d774"
      },
      "execution_count": null,
      "outputs": [
        {
          "output_type": "stream",
          "name": "stdout",
          "text": [
            "NaN counts per column:\n",
            " Trip_Distance_km         50\n",
            "Time_of_Day              50\n",
            "Day_of_Week              50\n",
            "Passenger_Count          50\n",
            "Traffic_Conditions       50\n",
            "Weather                  50\n",
            "Base_Fare                50\n",
            "Per_Km_Rate              50\n",
            "Per_Minute_Rate          50\n",
            "Trip_Duration_Minutes    50\n",
            "Trip_Price               49\n",
            "dtype: int64\n"
          ]
        }
      ]
    },
    {
      "cell_type": "code",
      "source": [
        "df = df.drop_duplicates()"
      ],
      "metadata": {
        "id": "kCUCEnPJcR-p"
      },
      "execution_count": null,
      "outputs": []
    },
    {
      "cell_type": "code",
      "source": [
        "df.info()"
      ],
      "metadata": {
        "id": "HrTgZ1dfcWZ9",
        "colab": {
          "base_uri": "https://localhost:8080/"
        },
        "outputId": "9948b298-db96-4a0b-9b2d-a5acb4f11259"
      },
      "execution_count": null,
      "outputs": [
        {
          "output_type": "stream",
          "name": "stdout",
          "text": [
            "<class 'pandas.core.frame.DataFrame'>\n",
            "RangeIndex: 1000 entries, 0 to 999\n",
            "Data columns (total 11 columns):\n",
            " #   Column                 Non-Null Count  Dtype  \n",
            "---  ------                 --------------  -----  \n",
            " 0   Trip_Distance_km       950 non-null    float64\n",
            " 1   Time_of_Day            950 non-null    object \n",
            " 2   Day_of_Week            950 non-null    object \n",
            " 3   Passenger_Count        950 non-null    float64\n",
            " 4   Traffic_Conditions     950 non-null    object \n",
            " 5   Weather                950 non-null    object \n",
            " 6   Base_Fare              950 non-null    float64\n",
            " 7   Per_Km_Rate            950 non-null    float64\n",
            " 8   Per_Minute_Rate        950 non-null    float64\n",
            " 9   Trip_Duration_Minutes  950 non-null    float64\n",
            " 10  Trip_Price             951 non-null    float64\n",
            "dtypes: float64(7), object(4)\n",
            "memory usage: 86.1+ KB\n"
          ]
        }
      ]
    },
    {
      "cell_type": "code",
      "source": [
        "le = LabelEncoder()\n",
        "\n",
        "for column in ['Time_of_Day', 'Day_of_Week', 'Traffic_Conditions', 'Weather']:\n",
        "  if column in df.columns:\n",
        "    df[column] = le.fit_transform(df[column].fillna('0'))\n",
        "\n",
        "print(df.head())\n"
      ],
      "metadata": {
        "id": "fz2PjfPugPRj",
        "colab": {
          "base_uri": "https://localhost:8080/"
        },
        "outputId": "d3fddf60-2001-4da6-9ff2-e1eae5fa3dd7"
      },
      "execution_count": null,
      "outputs": [
        {
          "output_type": "stream",
          "name": "stdout",
          "text": [
            "   Trip_Distance_km  Time_of_Day  Day_of_Week  Passenger_Count  \\\n",
            "0             19.35            3            1              3.0   \n",
            "1             47.59            1            1              1.0   \n",
            "2             36.87            2            2              1.0   \n",
            "3             30.33            2            1              4.0   \n",
            "4               NaN            2            1              3.0   \n",
            "\n",
            "   Traffic_Conditions  Weather  Base_Fare  Per_Km_Rate  Per_Minute_Rate  \\\n",
            "0                   2        1       3.56         0.80             0.32   \n",
            "1                   1        1        NaN         0.62             0.43   \n",
            "2                   1        1       2.70         1.21             0.15   \n",
            "3                   2        0       3.48         0.51             0.15   \n",
            "4                   1        1       2.93         0.63             0.32   \n",
            "\n",
            "   Trip_Duration_Minutes  Trip_Price  \n",
            "0                  53.82     36.2624  \n",
            "1                  40.57         NaN  \n",
            "2                  37.27     52.9032  \n",
            "3                 116.81     36.4698  \n",
            "4                  22.64     15.6180  \n"
          ]
        }
      ]
    },
    {
      "cell_type": "code",
      "source": [
        "nan_counts = df.isnull().sum()\n",
        "\n",
        "print(\"NaN counts per column:\\n\", nan_counts)"
      ],
      "metadata": {
        "collapsed": true,
        "id": "cZyevtExh3pI",
        "colab": {
          "base_uri": "https://localhost:8080/"
        },
        "outputId": "f2d430de-7bec-4731-ff32-4bf4a9fb0d0e"
      },
      "execution_count": null,
      "outputs": [
        {
          "output_type": "stream",
          "name": "stdout",
          "text": [
            "NaN counts per column:\n",
            " Trip_Distance_km         50\n",
            "Time_of_Day               0\n",
            "Day_of_Week               0\n",
            "Passenger_Count          50\n",
            "Traffic_Conditions        0\n",
            "Weather                   0\n",
            "Base_Fare                50\n",
            "Per_Km_Rate              50\n",
            "Per_Minute_Rate          50\n",
            "Trip_Duration_Minutes    50\n",
            "Trip_Price               49\n",
            "dtype: int64\n"
          ]
        }
      ]
    },
    {
      "cell_type": "code",
      "source": [
        "df.iloc[7]"
      ],
      "metadata": {
        "id": "qJHBf-pZjUdN",
        "colab": {
          "base_uri": "https://localhost:8080/",
          "height": 429
        },
        "outputId": "163f29d3-7dfc-47d3-c674-eab01d35f628"
      },
      "execution_count": null,
      "outputs": [
        {
          "output_type": "execute_result",
          "data": {
            "text/plain": [
              "Trip_Distance_km          43.4400\n",
              "Time_of_Day                2.0000\n",
              "Day_of_Week                2.0000\n",
              "Passenger_Count            3.0000\n",
              "Traffic_Conditions         0.0000\n",
              "Weather                    1.0000\n",
              "Base_Fare                  2.9700\n",
              "Per_Km_Rate                1.8700\n",
              "Per_Minute_Rate            0.2300\n",
              "Trip_Duration_Minutes         NaN\n",
              "Trip_Price               101.1216\n",
              "Name: 7, dtype: float64"
            ],
            "text/html": [
              "<div>\n",
              "<style scoped>\n",
              "    .dataframe tbody tr th:only-of-type {\n",
              "        vertical-align: middle;\n",
              "    }\n",
              "\n",
              "    .dataframe tbody tr th {\n",
              "        vertical-align: top;\n",
              "    }\n",
              "\n",
              "    .dataframe thead th {\n",
              "        text-align: right;\n",
              "    }\n",
              "</style>\n",
              "<table border=\"1\" class=\"dataframe\">\n",
              "  <thead>\n",
              "    <tr style=\"text-align: right;\">\n",
              "      <th></th>\n",
              "      <th>7</th>\n",
              "    </tr>\n",
              "  </thead>\n",
              "  <tbody>\n",
              "    <tr>\n",
              "      <th>Trip_Distance_km</th>\n",
              "      <td>43.4400</td>\n",
              "    </tr>\n",
              "    <tr>\n",
              "      <th>Time_of_Day</th>\n",
              "      <td>2.0000</td>\n",
              "    </tr>\n",
              "    <tr>\n",
              "      <th>Day_of_Week</th>\n",
              "      <td>2.0000</td>\n",
              "    </tr>\n",
              "    <tr>\n",
              "      <th>Passenger_Count</th>\n",
              "      <td>3.0000</td>\n",
              "    </tr>\n",
              "    <tr>\n",
              "      <th>Traffic_Conditions</th>\n",
              "      <td>0.0000</td>\n",
              "    </tr>\n",
              "    <tr>\n",
              "      <th>Weather</th>\n",
              "      <td>1.0000</td>\n",
              "    </tr>\n",
              "    <tr>\n",
              "      <th>Base_Fare</th>\n",
              "      <td>2.9700</td>\n",
              "    </tr>\n",
              "    <tr>\n",
              "      <th>Per_Km_Rate</th>\n",
              "      <td>1.8700</td>\n",
              "    </tr>\n",
              "    <tr>\n",
              "      <th>Per_Minute_Rate</th>\n",
              "      <td>0.2300</td>\n",
              "    </tr>\n",
              "    <tr>\n",
              "      <th>Trip_Duration_Minutes</th>\n",
              "      <td>NaN</td>\n",
              "    </tr>\n",
              "    <tr>\n",
              "      <th>Trip_Price</th>\n",
              "      <td>101.1216</td>\n",
              "    </tr>\n",
              "  </tbody>\n",
              "</table>\n",
              "</div><br><label><b>dtype:</b> float64</label>"
            ]
          },
          "metadata": {},
          "execution_count": 30
        }
      ]
    },
    {
      "cell_type": "markdown",
      "source": [
        "REplace 0 na najcześciej wystepująca wartość 'Time_of_Day', 'Day_of_Week', 'Traffic_Conditions', 'Weather'"
      ],
      "metadata": {
        "id": "bhCeHISflFoC"
      }
    },
    {
      "cell_type": "code",
      "source": [
        "for column in ['Time_of_Day', 'Day_of_Week', 'Traffic_Conditions', 'Weather']:\n",
        "  if column in df.columns:\n",
        "    most_frequent_value = df[column].mode()[0]\n",
        "    df[column] = df[column].replace(0, most_frequent_value)\n",
        "\n",
        "print(df.head())\n"
      ],
      "metadata": {
        "id": "3FC75uCClXn6",
        "colab": {
          "base_uri": "https://localhost:8080/"
        },
        "outputId": "9c52a049-8233-43d1-9723-fbd85b89a2b0"
      },
      "execution_count": null,
      "outputs": [
        {
          "output_type": "stream",
          "name": "stdout",
          "text": [
            "   Trip_Distance_km  Time_of_Day  Day_of_Week  Passenger_Count  \\\n",
            "0             19.35            3            1              3.0   \n",
            "1             47.59            1            1              1.0   \n",
            "2             36.87            2            2              1.0   \n",
            "3             30.33            2            1              4.0   \n",
            "4               NaN            2            1              3.0   \n",
            "\n",
            "   Traffic_Conditions  Weather  Base_Fare  Per_Km_Rate  Per_Minute_Rate  \\\n",
            "0                   2        1       3.56         0.80             0.32   \n",
            "1                   1        1        NaN         0.62             0.43   \n",
            "2                   1        1       2.70         1.21             0.15   \n",
            "3                   2        1       3.48         0.51             0.15   \n",
            "4                   1        1       2.93         0.63             0.32   \n",
            "\n",
            "   Trip_Duration_Minutes  Trip_Price  \n",
            "0                  53.82     36.2624  \n",
            "1                  40.57         NaN  \n",
            "2                  37.27     52.9032  \n",
            "3                 116.81     36.4698  \n",
            "4                  22.64     15.6180  \n"
          ]
        }
      ]
    },
    {
      "cell_type": "code",
      "source": [
        "for col in ['Trip_Distance_km', 'Passenger_Count', 'Time_of_Day', 'Day_of_Week', 'Base_Fare', 'Per_Km_Rate', 'Per_Minute_Rate', 'Trip_Duration_Minutes', 'Trip_Price', 'Traffic_Conditions', 'Weather']:\n",
        "    if col in df.columns:\n",
        "        df[col] = df[col].fillna(df[col].mean())\n"
      ],
      "metadata": {
        "id": "dy-VHPfcewJm"
      },
      "execution_count": null,
      "outputs": []
    },
    {
      "cell_type": "code",
      "source": [
        "nan_counts = df.isnull().sum()\n",
        "\n",
        "print(\"NaN counts per column:\\n\", nan_counts)"
      ],
      "metadata": {
        "id": "73lqedlRfgeT",
        "colab": {
          "base_uri": "https://localhost:8080/"
        },
        "outputId": "c3d47db0-3a2b-4e38-9d05-435dc20d9327"
      },
      "execution_count": null,
      "outputs": [
        {
          "output_type": "stream",
          "name": "stdout",
          "text": [
            "NaN counts per column:\n",
            " Trip_Distance_km         0\n",
            "Time_of_Day              0\n",
            "Day_of_Week              0\n",
            "Passenger_Count          0\n",
            "Traffic_Conditions       0\n",
            "Weather                  0\n",
            "Base_Fare                0\n",
            "Per_Km_Rate              0\n",
            "Per_Minute_Rate          0\n",
            "Trip_Duration_Minutes    0\n",
            "Trip_Price               0\n",
            "dtype: int64\n"
          ]
        }
      ]
    },
    {
      "cell_type": "markdown",
      "source": [
        "Sprawdzenie wartości odstających + korelacji\n"
      ],
      "metadata": {
        "id": "LENPu1QAmwpl"
      }
    },
    {
      "cell_type": "code",
      "source": [
        "for column in df.columns:\n",
        "  if pd.api.types.is_numeric_dtype(df[column]):\n",
        "    print(f\"Column: {column}\")\n",
        "    print(f\"Minimum: {df[column].min()}\")\n",
        "    print(f\"Maximum: {df[column].max()}\")\n",
        "    print(\"-\" * 20)\n"
      ],
      "metadata": {
        "id": "nBBpcuHBnQ3-",
        "colab": {
          "base_uri": "https://localhost:8080/"
        },
        "outputId": "60f763d7-11e2-42ef-ef91-2cb9ce4a2d17"
      },
      "execution_count": null,
      "outputs": [
        {
          "output_type": "stream",
          "name": "stdout",
          "text": [
            "Column: Trip_Distance_km\n",
            "Minimum: 1.23\n",
            "Maximum: 146.0670471598387\n",
            "--------------------\n",
            "Column: Time_of_Day\n",
            "Minimum: 1\n",
            "Maximum: 4\n",
            "--------------------\n",
            "Column: Day_of_Week\n",
            "Minimum: 1\n",
            "Maximum: 2\n",
            "--------------------\n",
            "Column: Passenger_Count\n",
            "Minimum: 1.0\n",
            "Maximum: 4.0\n",
            "--------------------\n",
            "Column: Traffic_Conditions\n",
            "Minimum: 1\n",
            "Maximum: 3\n",
            "--------------------\n",
            "Column: Weather\n",
            "Minimum: 1\n",
            "Maximum: 3\n",
            "--------------------\n",
            "Column: Base_Fare\n",
            "Minimum: 2.01\n",
            "Maximum: 5.0\n",
            "--------------------\n",
            "Column: Per_Km_Rate\n",
            "Minimum: 0.5\n",
            "Maximum: 2.0\n",
            "--------------------\n",
            "Column: Per_Minute_Rate\n",
            "Minimum: 0.1\n",
            "Maximum: 0.5\n",
            "--------------------\n",
            "Column: Trip_Duration_Minutes\n",
            "Minimum: 5.01\n",
            "Maximum: 119.84\n",
            "--------------------\n",
            "Column: Trip_Price\n",
            "Minimum: 6.1269\n",
            "Maximum: 332.0436886774302\n",
            "--------------------\n"
          ]
        }
      ]
    },
    {
      "cell_type": "code",
      "source": [
        "#10 największych i 10 najmniejszych wartości z Trip_Distance_km, Base_Fare, Trip_Duration_Minutes, Trip_Price\n",
        "\n",
        "for column in ['Trip_Distance_km', 'Base_Fare', 'Trip_Duration_Minutes', 'Trip_Price']:\n",
        "  if column in df.columns:\n",
        "    print(f\"Top 10 largest values for {column}:\")\n",
        "    print(df[column].nlargest(10))\n",
        "    print(f\"Top 10 smallest values for {column}:\")\n",
        "    print(df[column].nsmallest(10))\n",
        "    print(\"-\" * 20)\n"
      ],
      "metadata": {
        "id": "9mk3RFMaqSd3",
        "colab": {
          "base_uri": "https://localhost:8080/"
        },
        "outputId": "c3ba85c5-d130-4ad7-9d39-d25374cd8f93"
      },
      "execution_count": null,
      "outputs": [
        {
          "output_type": "stream",
          "name": "stdout",
          "text": [
            "Top 10 largest values for Trip_Distance_km:\n",
            "64     146.067047\n",
            "302    145.747060\n",
            "532    139.476515\n",
            "268    139.062230\n",
            "616    138.763887\n",
            "27     138.098328\n",
            "225    130.809001\n",
            "835    126.547628\n",
            "588    122.820191\n",
            "338    116.667681\n",
            "Name: Trip_Distance_km, dtype: float64\n",
            "Top 10 smallest values for Trip_Distance_km:\n",
            "821    1.23\n",
            "208    1.25\n",
            "72     1.27\n",
            "128    1.34\n",
            "205    1.45\n",
            "407    1.53\n",
            "945    1.54\n",
            "456    1.56\n",
            "840    1.64\n",
            "898    1.64\n",
            "Name: Trip_Distance_km, dtype: float64\n",
            "--------------------\n",
            "Top 10 largest values for Base_Fare:\n",
            "288    5.00\n",
            "623    5.00\n",
            "61     4.99\n",
            "330    4.99\n",
            "383    4.99\n",
            "951    4.99\n",
            "243    4.97\n",
            "617    4.97\n",
            "894    4.97\n",
            "920    4.97\n",
            "Name: Base_Fare, dtype: float64\n",
            "Top 10 smallest values for Base_Fare:\n",
            "622    2.01\n",
            "362    2.02\n",
            "447    2.02\n",
            "850    2.02\n",
            "357    2.03\n",
            "983    2.03\n",
            "485    2.04\n",
            "490    2.04\n",
            "138    2.05\n",
            "284    2.05\n",
            "Name: Base_Fare, dtype: float64\n",
            "--------------------\n",
            "Top 10 largest values for Trip_Duration_Minutes:\n",
            "891    119.84\n",
            "845    119.82\n",
            "528    119.65\n",
            "120    119.54\n",
            "112    119.21\n",
            "321    119.17\n",
            "303    119.08\n",
            "409    118.44\n",
            "617    118.39\n",
            "235    117.94\n",
            "Name: Trip_Duration_Minutes, dtype: float64\n",
            "Top 10 smallest values for Trip_Duration_Minutes:\n",
            "687    5.01\n",
            "6      5.05\n",
            "938    5.10\n",
            "373    5.50\n",
            "452    5.61\n",
            "986    5.65\n",
            "679    5.66\n",
            "895    5.93\n",
            "180    6.06\n",
            "896    6.06\n",
            "Name: Trip_Duration_Minutes, dtype: float64\n",
            "--------------------\n",
            "Top 10 largest values for Trip_Price:\n",
            "616    332.043689\n",
            "287    329.913004\n",
            "225    328.871769\n",
            "141    327.217665\n",
            "302    325.098950\n",
            "481    322.725996\n",
            "64     320.958664\n",
            "532    296.088697\n",
            "747    283.645201\n",
            "27     280.877302\n",
            "Name: Trip_Price, dtype: float64\n",
            "Top 10 smallest values for Trip_Price:\n",
            "371     6.1269\n",
            "237     6.4729\n",
            "874     8.6709\n",
            "335     8.7296\n",
            "291     8.9203\n",
            "208     9.8005\n",
            "945     9.8718\n",
            "672     9.9494\n",
            "56     10.2366\n",
            "938    10.4444\n",
            "Name: Trip_Price, dtype: float64\n",
            "--------------------\n"
          ]
        }
      ]
    },
    {
      "cell_type": "code",
      "source": [
        "# Funkcja do identyfikacji wartości odstających\n",
        "def identify_outliers(series):\n",
        "    Q1 = series.quantile(0.25)\n",
        "    Q3 = series.quantile(0.75)\n",
        "    IQR = Q3 - Q1\n",
        "    lower_bound = Q1 - 1.5 * IQR\n",
        "    upper_bound = Q3 + 1.5 * IQR\n",
        "    outliers = series[(series < lower_bound) | (series > upper_bound)]\n",
        "    return outliers\n",
        "\n",
        "# Usuń wartości odstające dla wybranych kolumn\n",
        "selected_columns = ['Trip_Distance_km', 'Base_Fare', 'Trip_Duration_Minutes', 'Trip_Price']\n",
        "for column in selected_columns:\n",
        "    if column in df.columns:  # Sprawdź, czy kolumna istnieje w DataFrame\n",
        "        outliers = identify_outliers(df[column])\n",
        "        if not outliers.empty:\n",
        "            print(f\"Usuwanie wartości odstających w kolumnie {column}:\")\n",
        "            # Tworzenie maski dla wartości nie będących odstającymi\n",
        "            mask = ~df[column].isin(outliers)\n",
        "            # Filtrowanie DataFrame za pomocą maski\n",
        "            df = df[mask]\n",
        "        else:\n",
        "            print(f\"Brak wartości odstających w kolumnie {column}\")\n"
      ],
      "metadata": {
        "id": "aJZfkaR80D-s",
        "colab": {
          "base_uri": "https://localhost:8080/"
        },
        "outputId": "de3980bd-1726-41ab-e713-2bcbd90b8fad"
      },
      "execution_count": null,
      "outputs": [
        {
          "output_type": "stream",
          "name": "stdout",
          "text": [
            "Usuwanie wartości odstających w kolumnie Trip_Distance_km:\n",
            "Brak wartości odstających w kolumnie Base_Fare\n",
            "Brak wartości odstających w kolumnie Trip_Duration_Minutes\n",
            "Usuwanie wartości odstających w kolumnie Trip_Price:\n"
          ]
        }
      ]
    },
    {
      "cell_type": "code",
      "source": [
        "# Krok 1: Skalowanie Min-Max\n",
        "scaler = MinMaxScaler()\n",
        "columns_to_scale = ['Trip_Distance_km', 'Base_Fare', 'Trip_Duration_Minutes', 'Trip_Price']\n",
        "scaled_data = scaler.fit_transform(df[columns_to_scale])\n",
        "\n",
        "# Konwersja do DataFrame ze skalowanymi kolumnami\n",
        "scaled_df = pd.DataFrame(scaled_data, columns=[f\"Scaled_{col}\" for col in columns_to_scale])\n",
        "\n",
        "# Krok 2: PCA z 90% wariancji\n",
        "pca = PCA(n_components=0.9)\n",
        "pca_components = pca.fit_transform(scaled_data)\n",
        "\n",
        "# Tworzenie DataFrame z komponentami PCA\n",
        "pca_df = pd.DataFrame(pca_components, columns=[f\"PCA_{i+1}\" for i in range(pca.n_components_)])\n",
        "\n",
        "# Krok 3: Łączenie wyników\n",
        "final_df = pd.concat([df, scaled_df, pca_df], axis=1)\n",
        "\n",
        "# Weryfikacja\n",
        "print(\"Wyjaśniona wariancja przez PCA:\", np.sum(pca.explained_variance_ratio_))\n",
        "print(\"\\nPrzykładowe rekordy:\")\n",
        "print(final_df.head())"
      ],
      "metadata": {
        "id": "A2wg_0ix1qgW",
        "colab": {
          "base_uri": "https://localhost:8080/"
        },
        "outputId": "b8bc8e77-beea-44c2-f520-d705101bccb7"
      },
      "execution_count": null,
      "outputs": [
        {
          "output_type": "stream",
          "name": "stdout",
          "text": [
            "Wyjaśniona wariancja przez PCA: 0.9498747673971077\n",
            "\n",
            "Przykładowe rekordy:\n",
            "   Trip_Distance_km  Time_of_Day  Day_of_Week  Passenger_Count  \\\n",
            "0         19.350000          3.0          1.0              3.0   \n",
            "1         47.590000          1.0          1.0              1.0   \n",
            "2         36.870000          2.0          2.0              1.0   \n",
            "3         30.330000          2.0          1.0              4.0   \n",
            "4         27.070547          2.0          1.0              3.0   \n",
            "\n",
            "   Traffic_Conditions  Weather  Base_Fare  Per_Km_Rate  Per_Minute_Rate  \\\n",
            "0                 2.0      1.0   3.560000         0.80             0.32   \n",
            "1                 1.0      1.0   3.502989         0.62             0.43   \n",
            "2                 1.0      1.0   2.700000         1.21             0.15   \n",
            "3                 2.0      1.0   3.480000         0.51             0.15   \n",
            "4                 1.0      1.0   2.930000         0.63             0.32   \n",
            "\n",
            "   Trip_Duration_Minutes  Trip_Price  Scaled_Trip_Distance_km  \\\n",
            "0                  53.82   36.262400                 0.371616   \n",
            "1                  40.57   56.874773                 0.950779   \n",
            "2                  37.27   52.903200                 0.730927   \n",
            "3                 116.81   36.469800                 0.596801   \n",
            "4                  22.64   15.618000                 0.529954   \n",
            "\n",
            "   Scaled_Base_Fare  Scaled_Trip_Duration_Minutes  Scaled_Trip_Price  \\\n",
            "0          0.518395                      0.425063           0.289410   \n",
            "1          0.499328                      0.309675           0.487363   \n",
            "2          0.230769                      0.280937           0.449221   \n",
            "3          0.491639                      0.973613           0.291401   \n",
            "4          0.307692                      0.153531           0.091149   \n",
            "\n",
            "      PCA_1     PCA_2     PCA_3  \n",
            "0 -0.187588  0.051294 -0.030877  \n",
            "1  0.345995  0.015259 -0.335920  \n",
            "2  0.111701 -0.229609 -0.330225  \n",
            "3  0.114118 -0.089609  0.376882  \n",
            "4 -0.267973 -0.089635 -0.392412  \n"
          ]
        }
      ]
    },
    {
      "cell_type": "code",
      "source": [
        "# Obliczenie i wyświetlenie macierzy korelacji\n",
        "correlation_matrix = df.corr()\n",
        "print(correlation_matrix)\n",
        "\n",
        "# Wizualizacja macierzy korelacji za pomocą heatmapy\n",
        "plt.figure(figsize=(12, 10))\n",
        "sns.heatmap(correlation_matrix, annot=True, cmap='coolwarm', fmt=\".2f\")\n",
        "plt.title('Macierz korelacji')\n",
        "plt.show()\n",
        "\n",
        "#Kolumny zostaną ewentualnie usunięte już po testach modelu"
      ],
      "metadata": {
        "id": "9KiX8pc8zPQa",
        "colab": {
          "base_uri": "https://localhost:8080/",
          "height": 1000
        },
        "outputId": "905c941d-667c-45ff-cd83-fe880fb8be04"
      },
      "execution_count": null,
      "outputs": [
        {
          "output_type": "stream",
          "name": "stdout",
          "text": [
            "                       Trip_Distance_km  Time_of_Day  Day_of_Week  \\\n",
            "Trip_Distance_km               1.000000    -0.030690    -0.008617   \n",
            "Time_of_Day                   -0.030690     1.000000    -0.016616   \n",
            "Day_of_Week                   -0.008617    -0.016616     1.000000   \n",
            "Passenger_Count               -0.015770     0.037724     0.021318   \n",
            "Traffic_Conditions            -0.039444     0.014296     0.023879   \n",
            "Weather                       -0.005650     0.002731     0.030618   \n",
            "Base_Fare                      0.038502     0.010296    -0.022787   \n",
            "Per_Km_Rate                   -0.061410     0.075858    -0.030642   \n",
            "Per_Minute_Rate               -0.023463    -0.017618     0.005496   \n",
            "Trip_Duration_Minutes         -0.048277     0.009005     0.012647   \n",
            "Trip_Price                     0.656173    -0.001219     0.002271   \n",
            "\n",
            "                       Passenger_Count  Traffic_Conditions   Weather  \\\n",
            "Trip_Distance_km             -0.015770           -0.039444 -0.005650   \n",
            "Time_of_Day                   0.037724            0.014296  0.002731   \n",
            "Day_of_Week                   0.021318            0.023879  0.030618   \n",
            "Passenger_Count               1.000000           -0.001419  0.009752   \n",
            "Traffic_Conditions           -0.001419            1.000000  0.061597   \n",
            "Weather                       0.009752            0.061597  1.000000   \n",
            "Base_Fare                     0.024199            0.007949 -0.028398   \n",
            "Per_Km_Rate                   0.029448           -0.000005  0.029325   \n",
            "Per_Minute_Rate               0.030069            0.030188 -0.029285   \n",
            "Trip_Duration_Minutes         0.025017           -0.001169  0.016969   \n",
            "Trip_Price                    0.048979           -0.029262  0.017448   \n",
            "\n",
            "                       Base_Fare  Per_Km_Rate  Per_Minute_Rate  \\\n",
            "Trip_Distance_km        0.038502    -0.061410        -0.023463   \n",
            "Time_of_Day             0.010296     0.075858        -0.017618   \n",
            "Day_of_Week            -0.022787    -0.030642         0.005496   \n",
            "Passenger_Count         0.024199     0.029448         0.030069   \n",
            "Traffic_Conditions      0.007949    -0.000005         0.030188   \n",
            "Weather                -0.028398     0.029325        -0.029285   \n",
            "Base_Fare               1.000000    -0.003387        -0.018746   \n",
            "Per_Km_Rate            -0.003387     1.000000         0.017153   \n",
            "Per_Minute_Rate        -0.018746     0.017153         1.000000   \n",
            "Trip_Duration_Minutes   0.009721     0.013329        -0.034015   \n",
            "Trip_Price              0.038903     0.383894         0.244210   \n",
            "\n",
            "                       Trip_Duration_Minutes  Trip_Price  \n",
            "Trip_Distance_km                   -0.048277    0.656173  \n",
            "Time_of_Day                         0.009005   -0.001219  \n",
            "Day_of_Week                         0.012647    0.002271  \n",
            "Passenger_Count                     0.025017    0.048979  \n",
            "Traffic_Conditions                 -0.001169   -0.029262  \n",
            "Weather                             0.016969    0.017448  \n",
            "Base_Fare                           0.009721    0.038903  \n",
            "Per_Km_Rate                         0.013329    0.383894  \n",
            "Per_Minute_Rate                    -0.034015    0.244210  \n",
            "Trip_Duration_Minutes               1.000000    0.335952  \n",
            "Trip_Price                          0.335952    1.000000  \n"
          ]
        },
        {
          "output_type": "display_data",
          "data": {
            "text/plain": [
              "<Figure size 1200x1000 with 2 Axes>"
            ],
            "image/png": "[encoded data removed]"
          },
          "metadata": {}
        }
      ]
    },
    {
      "cell_type": "markdown",
      "source": [
        "# **etap 2 - model podstawowy**"
      ],
      "metadata": {
        "id": "LQbIx0V6Rynx"
      }
    },
    {
      "cell_type": "code",
      "source": [
        "# --- Wyznaczenie danych uczących i testowych przy użyciu walidacji krzyżowej ---\n",
        "\n",
        "# Uzupełnienie brakujących wartości średnimi (ważne, bo PCA mogło wprowadzić NaN)\n",
        "final_df = final_df.fillna(final_df.mean())\n",
        "\n",
        "# Definiowanie cech (X) i zmiennej docelowej (y)\n",
        "X = final_df.drop('Trip_Price', axis=1)\n",
        "y = final_df['Trip_Price']\n",
        "\n",
        "# Użycie prostego modelu regresji liniowej jako modelu bazowego (benchmark)\n",
        "model = LinearRegression()\n",
        "\n",
        "# Przygotowanie walidacji krzyżowej - 5 podziałów (5-fold CV)\n",
        "kf = KFold(n_splits=5, shuffle=True, random_state=42)\n",
        "\n",
        "# Ocena modelu za pomocą walidacji krzyżowej, metryka: średni błąd kwadratowy (MSE)\n",
        "scores = cross_val_score(model, X, y, cv=kf, scoring='neg_mean_squared_error')\n",
        "\n",
        "# Wyświetlenie wyników\n",
        "print(\"Wyniki walidacji krzyżowej (negatywne MSE dla każdej foldy):\")\n",
        "print(scores)\n",
        "print(\"\\nŚrednia jakość modelu (MSE):\")\n",
        "print(-np.mean(scores))"
      ],
      "metadata": {
        "id": "EY_MwLRbVYvv",
        "colab": {
          "base_uri": "https://localhost:8080/"
        },
        "outputId": "f2e3d491-8804-4ba9-dd31-3e90bd0fb639"
      },
      "execution_count": null,
      "outputs": [
        {
          "output_type": "stream",
          "name": "stdout",
          "text": [
            "Wyniki walidacji krzyżowej (negatywne MSE dla każdej foldy):\n",
            "[-120.41339388  -83.57722059  -76.47175454  -92.50413144  -90.83914379]\n",
            "\n",
            "Średnia jakość modelu (MSE):\n",
            "92.7611288499143\n"
          ]
        }
      ]
    },
    {
      "cell_type": "code",
      "source": [
        "# --- Stworzenie i trenowanie modelu bazowego ---\n",
        "\n",
        "# Wytrenowanie modelu na pełnym zbiorze danych\n",
        "model.fit(X, y)\n",
        "\n",
        "# Wyświetlenie współczynników regresji oraz wyrazu wolnego\n",
        "print(\"Współczynniki regresji (coef_):\", model.coef_)\n",
        "print(\"Wyraz wolny (intercept_):\", model.intercept_)\n"
      ],
      "metadata": {
        "id": "WALQDB_pat0r",
        "colab": {
          "base_uri": "https://localhost:8080/"
        },
        "outputId": "291e88d0-40ba-4053-ef2c-f409430d2b71"
      },
      "execution_count": null,
      "outputs": [
        {
          "output_type": "stream",
          "name": "stdout",
          "text": [
            "Współczynniki regresji (coef_): [ 1.13544786 -0.21957869  0.62161711  0.63177733 -0.29322505  0.44248881\n",
            "  0.42153263 22.6128731  53.26841948  0.2661939  -2.09442758  0.54498882\n",
            " -0.86979888  2.22793784 -0.49861066  0.57520778  0.31325908]\n",
            "Wyraz wolny (intercept_): -39.54734478317529\n"
          ]
        }
      ]
    },
    {
      "cell_type": "code",
      "source": [
        "# --- Ocena modelu bazowego za pomocą różnych metryk ---\n",
        "\n",
        "# Predykcja cen na podstawie wytrenowanego modelu\n",
        "y_pred = model.predict(X)\n",
        "\n",
        "# Obliczanie metryk\n",
        "mse = mean_squared_error(y, y_pred)\n",
        "rmse = np.sqrt(mse)\n",
        "mae = mean_absolute_error(y, y_pred)\n",
        "r2 = r2_score(y, y_pred)\n",
        "max_err = max_error(y, y_pred)\n",
        "\n",
        "# Wyświetlanie wyników\n",
        "print(f\"Średni błąd kwadratowy (MSE): {mse:.2f}\")\n",
        "print(f\"Pierwiastek z MSE (RMSE): {rmse:.2f}\")\n",
        "print(f\"Średni błąd bezwzględny (MAE): {mae:.2f}\")\n",
        "print(f\"Współczynnik determinacji: {r2:.2f}\")\n",
        "print(f\"Maksymalny błąd predykcji (Max Error): {max_err:.2f}\")"
      ],
      "metadata": {
        "id": "9LIrmAP6dY4z",
        "colab": {
          "base_uri": "https://localhost:8080/"
        },
        "outputId": "418907dd-8690-414e-fecc-611ea783e91c"
      },
      "execution_count": null,
      "outputs": [
        {
          "output_type": "stream",
          "name": "stdout",
          "text": [
            "Średni błąd kwadratowy (MSE): 89.73\n",
            "Pierwiastek z MSE (RMSE): 9.47\n",
            "Średni błąd bezwzględny (MAE): 6.83\n",
            "Współczynnik determinacji: 0.82\n",
            "Maksymalny błąd predykcji (Max Error): 43.20\n"
          ]
        }
      ]
    },
    {
      "cell_type": "markdown",
      "source": [
        "# **etap 3 - Dwa dodatkowe modele do porównania**"
      ],
      "metadata": {
        "id": "0VeGa3NJw3sR"
      }
    },
    {
      "cell_type": "code",
      "source": [
        "# --- Ustawienia walidacji krzyżowej ---\n",
        "cv = KFold(n_splits=5, shuffle=True, random_state=42)\n",
        "\n",
        "# --- Siatki hiperparametrów ---\n",
        "param_grid_rf = {\n",
        "    'n_estimators': [50, 100],\n",
        "    'max_depth': [5, 10, None],\n",
        "    'min_samples_split': [2, 5]\n",
        "}\n",
        "\n",
        "param_grid_gb = {\n",
        "    'n_estimators': [50, 100],\n",
        "    'learning_rate': [0.05, 0.1],\n",
        "    'max_depth': [3, 5]\n",
        "}\n",
        "\n",
        "# --- Random Forest z Grid Search ---\n",
        "grid_rf = GridSearchCV(RandomForestRegressor(random_state=42), param_grid_rf, cv=cv, scoring='neg_mean_squared_error')\n",
        "grid_rf.fit(X, y)\n",
        "rf_best = grid_rf.best_estimator_\n",
        "\n",
        "# **Wyświetlenie najlepszych hiperparametrów dla Random Forest**\n",
        "print(\"\\nNajlepsze hiperparametry dla Random Forest:\")\n",
        "print(grid_rf.best_params_)\n",
        "\n",
        "\n",
        "# --- Gradient Boosting z Grid Search ---\n",
        "grid_gb = GridSearchCV(GradientBoostingRegressor(random_state=42), param_grid_gb, cv=cv, scoring='neg_mean_squared_error')\n",
        "grid_gb.fit(X, y)\n",
        "gb_best = grid_gb.best_estimator_\n",
        "\n",
        "# **Wyświetlenie najlepszych hiperparametrów dla Gradient Boosting**\n",
        "print(\"\\nNajlepsze hiperparametry dla Gradient Boosting:\")\n",
        "print(grid_gb.best_params_)\n",
        "\n",
        "\n",
        "# --- Regresja liniowa ---\n",
        "lr = LinearRegression()\n",
        "\n",
        "# --- Predykcje przez cross_val_predict ---\n",
        "y_pred_lr = cross_val_predict(lr, X, y, cv=cv)\n",
        "y_pred_rf = cross_val_predict(rf_best, X, y, cv=cv)\n",
        "y_pred_gb = cross_val_predict(gb_best, X, y, cv=cv)\n",
        "\n",
        "# --- Obliczanie metryk dla każdego modelu ---\n",
        "def print_metrics(y_true, y_pred, model_name):\n",
        "    mse = mean_squared_error(y_true, y_pred)\n",
        "    rmse = np.sqrt(mse)\n",
        "    mae = mean_absolute_error(y_true, y_pred)\n",
        "    r2 = r2_score(y_true, y_pred)\n",
        "    max_err = max_error(y_true, y_pred)\n",
        "\n",
        "    print(f\"\\n=== {model_name} ===\")\n",
        "    print(f\"  MSE: {mse:.2f}\")\n",
        "    print(f\"  RMSE: {rmse:.2f}\")\n",
        "    print(f\"  MAE: {mae:.2f}\")\n",
        "    print(f\"  R2: {r2:.2f}\")\n",
        "    print(f\"  Max Error: {max_err:.2f}\")\n",
        "\n",
        "# --- Wyświetlenie metryk ---\n",
        "print_metrics(y, y_pred_lr, \"Linear Regression\")\n",
        "print_metrics(y, y_pred_rf, \"Random Forest (Best Grid Search)\")\n",
        "print_metrics(y, y_pred_gb, \"Gradient Boosting (Best Grid Search)\")"
      ],
      "metadata": {
        "colab": {
          "base_uri": "https://localhost:8080/"
        },
        "id": "lzzBtARH0ZTu",
        "outputId": "3004f27b-4f5b-43de-89bc-382838eacdd3"
      },
      "execution_count": null,
      "outputs": [
        {
          "output_type": "stream",
          "name": "stdout",
          "text": [
            "\n",
            "Najlepsze hiperparametry dla Random Forest:\n",
            "{'max_depth': None, 'min_samples_split': 2, 'n_estimators': 100}\n",
            "\n",
            "Najlepsze hiperparametry dla Gradient Boosting:\n",
            "{'learning_rate': 0.1, 'max_depth': 3, 'n_estimators': 100}\n",
            "\n",
            "=== Linear Regression ===\n",
            "  MSE: 92.76\n",
            "  RMSE: 9.63\n",
            "  MAE: 6.93\n",
            "  R2: 0.81\n",
            "  Max Error: 45.32\n",
            "\n",
            "=== Random Forest (Best Grid Search) ===\n",
            "  MSE: 79.59\n",
            "  RMSE: 8.92\n",
            "  MAE: 6.20\n",
            "  R2: 0.84\n",
            "  Max Error: 39.62\n",
            "\n",
            "=== Gradient Boosting (Best Grid Search) ===\n",
            "  MSE: 70.42\n",
            "  RMSE: 8.39\n",
            "  MAE: 5.46\n",
            "  R2: 0.86\n",
            "  Max Error: 42.66\n"
          ]
        }
      ]
    },
    {
      "cell_type": "markdown",
      "source": [
        "Najlepszy wynik osiągnał Gradient Boosting\n",
        "\n"
      ],
      "metadata": {
        "id": "gexRS-PD024N"
      }
    }
  ]
}