{
  "nbformat": 4,
  "nbformat_minor": 0,
  "metadata": {
    "colab": {
      "provenance": [],
      "authorship_tag": "ABX9TyM2Zl2Xn6SMUMOOuuql6308",
      "include_colab_link": true
    },
    "kernelspec": {
      "name": "python3",
      "display_name": "Python 3"
    },
    "language_info": {
      "name": "python"
    }
  },
  "cells": [
    {
      "cell_type": "markdown",
      "metadata": {
        "id": "view-in-github",
        "colab_type": "text"
      },
      "source": [
        "<a href=\"https://colab.research.google.com/github/wojtwkg/lecture25.03/blob/main/WG_rekomendacja.ipynb\" target=\"_parent\"><img src=\"https://colab.research.google.com/assets/colab-badge.svg\" alt=\"Open In Colab\"/></a>"
      ]
    },
    {
      "cell_type": "code",
      "execution_count": 1,
      "metadata": {
        "colab": {
          "base_uri": "https://localhost:8080/"
        },
        "id": "eaiM-kW0G-MC",
        "outputId": "7686564e-5abd-42d4-cf53-3961e85bf7a8"
      },
      "outputs": [
        {
          "output_type": "stream",
          "name": "stdout",
          "text": [
            "Requirement already satisfied: numpy==1.23.5 in /usr/local/lib/python3.11/dist-packages (1.23.5)\n"
          ]
        }
      ],
      "source": [
        "!pip install numpy==1.23.5"
      ]
    },
    {
      "cell_type": "code",
      "source": [
        "!pip install scikit-surprise"
      ],
      "metadata": {
        "colab": {
          "base_uri": "https://localhost:8080/"
        },
        "id": "E9sPCFpHf7DU",
        "outputId": "881ab8c4-a1e2-4271-99b9-ea0dd7a084b1"
      },
      "execution_count": 2,
      "outputs": [
        {
          "output_type": "stream",
          "name": "stdout",
          "text": [
            "Collecting scikit-surprise\n",
            "  Downloading scikit_surprise-1.1.4.tar.gz (154 kB)\n",
            "\u001b[?25l     \u001b[90m━━━━━━━━━━━━━━━━━━━━━━━━━━━━━━━━━━━━━━━━\u001b[0m \u001b[32m0.0/154.4 kB\u001b[0m \u001b[31m?\u001b[0m eta \u001b[36m-:--:--\u001b[0m\r\u001b[2K     \u001b[90m━━━━━━━━━━━━━━━━━━━━━━━━━━━━━━━━━━━━━━━\u001b[0m \u001b[32m154.4/154.4 kB\u001b[0m \u001b[31m4.5 MB/s\u001b[0m eta \u001b[36m0:00:00\u001b[0m\n",
            "\u001b[?25h  Installing build dependencies ... \u001b[?25l\u001b[?25hdone\n",
            "  Getting requirements to build wheel ... \u001b[?25l\u001b[?25hdone\n",
            "  Preparing metadata (pyproject.toml) ... \u001b[?25l\u001b[?25hdone\n",
            "Requirement already satisfied: joblib>=1.2.0 in /usr/local/lib/python3.11/dist-packages (from scikit-surprise) (1.5.0)\n",
            "Requirement already satisfied: numpy>=1.19.5 in /usr/local/lib/python3.11/dist-packages (from scikit-surprise) (1.23.5)\n",
            "Requirement already satisfied: scipy>=1.6.0 in /usr/local/lib/python3.11/dist-packages (from scikit-surprise) (1.15.3)\n",
            "Building wheels for collected packages: scikit-surprise\n",
            "  Building wheel for scikit-surprise (pyproject.toml) ... \u001b[?25l\u001b[?25hdone\n",
            "  Created wheel for scikit-surprise: filename=scikit_surprise-1.1.4-cp311-cp311-linux_x86_64.whl size=2461564 sha256=dccc4d2da84d1e09f30446375697b0f32732dcd8b4990c545e38af764e2314a9\n",
            "  Stored in directory: /root/.cache/pip/wheels/2a/8f/6e/7e2899163e2d85d8266daab4aa1cdabec7a6c56f83c015b5af\n",
            "Successfully built scikit-surprise\n",
            "Installing collected packages: scikit-surprise\n",
            "Successfully installed scikit-surprise-1.1.4\n"
          ]
        }
      ]
    },
    {
      "cell_type": "code",
      "source": [
        "import pandas as pd\n",
        "import numpy as np\n",
        "from surprise import Dataset, Reader\n",
        "from surprise.model_selection import cross_validate, GridSearchCV\n",
        "from surprise.prediction_algorithms.matrix_factorization import SVD\n",
        "from surprise.prediction_algorithms.knns import KNNBasic, KNNBaseline"
      ],
      "metadata": {
        "id": "iLo1N35Bgdll"
      },
      "execution_count": 5,
      "outputs": []
    },
    {
      "cell_type": "code",
      "source": [
        "filmy = pd.read_csv('movies.csv')\n",
        "\n",
        "oceny = pd.read_csv('ratings.csv')"
      ],
      "metadata": {
        "id": "bulsKuU-gunD"
      },
      "execution_count": 7,
      "outputs": []
    },
    {
      "cell_type": "code",
      "source": [
        "min_ocena = oceny.rating.min()\n",
        "\n",
        "max_ocena = oceny.rating.max()\n",
        "\n",
        "\n",
        "reader = Reader(rating_scale=(min_ocena, max_ocena))\n",
        "\n",
        "data = Dataset.load_from_df(oceny[['userId', 'movieId', 'rating']], reader)"
      ],
      "metadata": {
        "id": "9WrTRjmThfog"
      },
      "execution_count": 10,
      "outputs": []
    },
    {
      "cell_type": "code",
      "source": [
        "algorytm = SVD()\n",
        "\n",
        "cross_validate(algorytm, data, measures=['RMSE', 'MAE'], cv=5, verbose=True)"
      ],
      "metadata": {
        "colab": {
          "base_uri": "https://localhost:8080/"
        },
        "id": "Pv6pWtAEiB1u",
        "outputId": "ca9e7820-47e9-4ae1-96f6-8badd9bbe604"
      },
      "execution_count": 12,
      "outputs": [
        {
          "output_type": "stream",
          "name": "stdout",
          "text": [
            "Evaluating RMSE, MAE of algorithm SVD on 5 split(s).\n",
            "\n",
            "                  Fold 1  Fold 2  Fold 3  Fold 4  Fold 5  Mean    Std     \n",
            "RMSE (testset)    0.8768  0.8765  0.8663  0.8738  0.8780  0.8743  0.0042  \n",
            "MAE (testset)     0.6738  0.6754  0.6620  0.6710  0.6752  0.6715  0.0050  \n",
            "Fit time          2.61    1.73    1.57    2.13    2.52    2.11    0.41    \n",
            "Test time         0.49    0.15    0.28    0.22    0.14    0.26    0.13    \n"
          ]
        },
        {
          "output_type": "execute_result",
          "data": {
            "text/plain": [
              "{'test_rmse': array([0.87678862, 0.87646347, 0.86634759, 0.87381926, 0.87801307]),\n",
              " 'test_mae': array([0.67381456, 0.6754346 , 0.66198551, 0.6709851 , 0.67516328]),\n",
              " 'fit_time': (2.6075093746185303,\n",
              "  1.7292673587799072,\n",
              "  1.5667262077331543,\n",
              "  2.1314797401428223,\n",
              "  2.524221181869507),\n",
              " 'test_time': (0.49251532554626465,\n",
              "  0.14751172065734863,\n",
              "  0.2786068916320801,\n",
              "  0.21940994262695312,\n",
              "  0.1393437385559082)}"
            ]
          },
          "metadata": {},
          "execution_count": 12
        }
      ]
    },
    {
      "cell_type": "code",
      "source": [
        "zbior_treningowy = data.build_full_trainset()\n",
        "\n",
        "algorytm.fit(zbior_treningowy)"
      ],
      "metadata": {
        "colab": {
          "base_uri": "https://localhost:8080/"
        },
        "id": "uF-pl9i7iF1M",
        "outputId": "19f97354-5b2e-4829-d9bd-11dface9e8f0"
      },
      "execution_count": 14,
      "outputs": [
        {
          "output_type": "execute_result",
          "data": {
            "text/plain": [
              "<surprise.prediction_algorithms.matrix_factorization.SVD at 0x781ca173c490>"
            ]
          },
          "metadata": {},
          "execution_count": 14
        }
      ]
    },
    {
      "cell_type": "code",
      "source": [
        "wszystkie_filmy = set(filmy['movieId'])\n",
        "\n",
        "ocenione_filmy = set(oceny[oceny['userId'] == 600]['movieId'])\n",
        "\n",
        "nieocenione_filmy = wszystkie_filmy - ocenione_filmy\n",
        "\n",
        "predykcje = [ (movie_id, algorytm.predict(600, movie_id).est) for movie_id in nieocenione_filmy]\n",
        "\n",
        "predykcje.sort(key=lambda x: x[1], reverse=True)\n",
        "\n",
        "top_10 = predykcje[:10]\n",
        "\n",
        "polecane_filmy = pd.DataFrame(top_10, columns=['movieId', 'predicted_rating'])\n",
        "\n",
        "polecane_filmy = polecane_filmy.merge(filmy, on='movieId')\n",
        "\n",
        "print(polecane_filmy[['movieId', 'title', 'predicted_rating']])"
      ],
      "metadata": {
        "colab": {
          "base_uri": "https://localhost:8080/"
        },
        "id": "x16MbA_hiLJ-",
        "outputId": "9285ccc4-8a7d-4358-cebd-32851f0fccb1"
      },
      "execution_count": 18,
      "outputs": [
        {
          "output_type": "stream",
          "name": "stdout",
          "text": [
            "   movieId                                title  predicted_rating\n",
            "0    56782           There Will Be Blood (2007)          4.350637\n",
            "1     5995                  Pianist, The (2002)          4.217822\n",
            "2     3152        Last Picture Show, The (1971)          4.217097\n",
            "3     6016  City of God (Cidade de Deus) (2002)          4.198546\n",
            "4     1203                  12 Angry Men (1957)          4.121996\n",
            "5     3451  Guess Who's Coming to Dinner (1967)          4.083297\n",
            "6    48516                 Departed, The (2006)          4.080114\n",
            "7     1228                   Raging Bull (1980)          4.036434\n",
            "8     1221       Godfather: Part II, The (1974)          4.027753\n",
            "9       16                        Casino (1995)          4.019611\n"
          ]
        }
      ]
    }
  ]
}